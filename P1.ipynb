import tensorflow as tf
print(tf._version_)
print(tf.reduce_sum(tf.random.normal([1000,1000])))
from keras import datasets
(train_images,train_labels),(test_images,test_labels)=datasets.mnist.load_data()
train_images.shape,test_images.shape
import numpy
import theano.tensor as T
from theano import function
x = T.dscalar('x')
y = T.dscalar('y')
z = x + y
f = function([x,y],z)
f(5,7)
import torch
import torch.nn as nn

print(torch._version_)
